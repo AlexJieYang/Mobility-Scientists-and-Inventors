{
 "cells": [
  {
   "cell_type": "code",
   "execution_count": 1,
   "id": "55d434ae-bf7c-4ed6-9529-34e741c77cb0",
   "metadata": {
    "execution": {
     "iopub.execute_input": "2024-04-30T02:46:38.685352Z",
     "iopub.status.busy": "2024-04-30T02:46:38.685352Z",
     "iopub.status.idle": "2024-04-30T02:46:39.595273Z",
     "shell.execute_reply": "2024-04-30T02:46:39.595273Z",
     "shell.execute_reply.started": "2024-04-30T02:46:38.685352Z"
    }
   },
   "outputs": [],
   "source": [
    "#Author Alex J. Yang, alexjieyang@outlook.com\n",
    "import numpy as np\n",
    "import pandas as pd\n",
    "import itertools\n",
    "import scipy.stats\n",
    "import seaborn as sns\n",
    "import matplotlib.pyplot as plt\n",
    "import statsmodels.api as sm\n",
    "from tqdm import tqdm\n",
    "from scipy.stats import bootstrap"
   ]
  },
  {
   "cell_type": "code",
   "execution_count": 2,
   "id": "13e5a914-d120-4f0a-8b0c-1cdabfc3a5a6",
   "metadata": {
    "execution": {
     "iopub.execute_input": "2024-04-30T02:46:39.602853Z",
     "iopub.status.busy": "2024-04-30T02:46:39.602853Z",
     "iopub.status.idle": "2024-04-30T02:46:39.609484Z",
     "shell.execute_reply": "2024-04-30T02:46:39.609484Z",
     "shell.execute_reply.started": "2024-04-30T02:46:39.602853Z"
    }
   },
   "outputs": [],
   "source": [
    "plt.switch_backend('agg')\n",
    "plt.rcParams['pdf.use14corefonts'] = True\n",
    "font = {'size': 15, 'family': 'Helvetica'}\n",
    "plt.rc('font', **font)"
   ]
  },
  {
   "cell_type": "code",
   "execution_count": 3,
   "id": "1f1fbfc9-ad03-493f-b79c-9249864cdfb1",
   "metadata": {
    "execution": {
     "iopub.execute_input": "2024-04-30T02:46:39.611480Z",
     "iopub.status.busy": "2024-04-30T02:46:39.610488Z",
     "iopub.status.idle": "2024-04-30T02:46:39.613365Z",
     "shell.execute_reply": "2024-04-30T02:46:39.613365Z",
     "shell.execute_reply.started": "2024-04-30T02:46:39.611480Z"
    }
   },
   "outputs": [],
   "source": [
    "import warnings\n",
    "warnings.filterwarnings(\"ignore\")"
   ]
  },
  {
   "cell_type": "code",
   "execution_count": 4,
   "id": "0584ac0a-3a02-479a-a9d9-7084ef951159",
   "metadata": {
    "execution": {
     "iopub.execute_input": "2024-04-30T02:46:39.614365Z",
     "iopub.status.busy": "2024-04-30T02:46:39.614365Z",
     "iopub.status.idle": "2024-04-30T02:46:39.617269Z",
     "shell.execute_reply": "2024-04-30T02:46:39.617269Z",
     "shell.execute_reply.started": "2024-04-30T02:46:39.614365Z"
    }
   },
   "outputs": [],
   "source": [
    "def bootstrapped(data,n_resamples=20):\n",
    "    data=(data,)\n",
    "    bootstrap_ci=bootstrap(data, np.mean, confidence_level=0.95,n_resamples=n_resamples,\n",
    "                         random_state=1, method='percentile')\n",
    "    return bootstrap_ci.confidence_interval[1]-np.mean(data)"
   ]
  },
  {
   "cell_type": "code",
   "execution_count": 5,
   "id": "61f655bb-5f9a-4e30-b3bf-7e8eba4ca8c4",
   "metadata": {
    "execution": {
     "iopub.execute_input": "2024-04-30T02:46:40.215082Z",
     "iopub.status.busy": "2024-04-30T02:46:40.214084Z",
     "iopub.status.idle": "2024-04-30T02:46:40.220240Z",
     "shell.execute_reply": "2024-04-30T02:46:40.219238Z",
     "shell.execute_reply.started": "2024-04-30T02:46:40.215082Z"
    }
   },
   "outputs": [],
   "source": [
    "savepath = ''"
   ]
  },
  {
   "cell_type": "markdown",
   "id": "f3d1cb26-cf5d-4ac9-b03e-e3526148b2fb",
   "metadata": {},
   "source": [
    "# Load data"
   ]
  },
  {
   "cell_type": "code",
   "execution_count": 6,
   "id": "91964155-435e-420e-b23e-34b3ee2d2abc",
   "metadata": {
    "execution": {
     "iopub.execute_input": "2024-04-30T02:46:40.987291Z",
     "iopub.status.busy": "2024-04-30T02:46:40.986295Z",
     "iopub.status.idle": "2024-04-30T02:46:43.308874Z",
     "shell.execute_reply": "2024-04-30T02:46:43.308874Z",
     "shell.execute_reply.started": "2024-04-30T02:46:40.987291Z"
    }
   },
   "outputs": [],
   "source": [
    "data = data[(data['Year']>=1978)&(data['Year']<=2020)]\n",
    "\n",
    "data['International'] = 0\n",
    "data.loc[data['SC']!=data['TC'],'International'] = 1"
   ]
  },
  {
   "cell_type": "code",
   "execution_count": 7,
   "id": "3403e7c7-fede-473a-82f3-78ab7b0e8e16",
   "metadata": {
    "execution": {
     "iopub.execute_input": "2024-04-30T02:46:43.317100Z",
     "iopub.status.busy": "2024-04-30T02:46:43.317100Z",
     "iopub.status.idle": "2024-04-30T02:47:41.899817Z",
     "shell.execute_reply": "2024-04-30T02:47:41.898809Z",
     "shell.execute_reply.started": "2024-04-30T02:46:43.317100Z"
    },
    "scrolled": true
   },
   "outputs": [],
   "source": [
    "data2 = data2[(data2['Year']>=1978)&(data2['Year']<=2020)]\n",
    "\n",
    "data2['International'] = 0\n",
    "data2.loc[data2['SC']!=data2['TC'],'International'] = 1"
   ]
  },
  {
   "cell_type": "code",
   "execution_count": 17,
   "id": "6bee8661-4cbf-4ecc-b806-2d4790d60d9a",
   "metadata": {
    "execution": {
     "iopub.execute_input": "2024-04-30T06:14:04.672551Z",
     "iopub.status.busy": "2024-04-30T06:14:04.672551Z",
     "iopub.status.idle": "2024-04-30T06:14:06.713819Z",
     "shell.execute_reply": "2024-04-30T06:14:06.713819Z",
     "shell.execute_reply.started": "2024-04-30T06:14:04.672551Z"
    }
   },
   "outputs": [],
   "source": [
    "data3 = data3[(data3['Year']>=1978)&(data3['Year']<=2020)]\n",
    "\n",
    "data3['International'] = 0\n",
    "data3.loc[data3['SC']!=data3['TC'],'International'] = 1"
   ]
  },
  {
   "cell_type": "code",
   "execution_count": 18,
   "id": "939e6fdc-285d-4328-ac97-2f458300b3e2",
   "metadata": {
    "execution": {
     "iopub.execute_input": "2024-04-30T06:14:06.723958Z",
     "iopub.status.busy": "2024-04-30T06:14:06.723958Z",
     "iopub.status.idle": "2024-04-30T06:14:15.830674Z",
     "shell.execute_reply": "2024-04-30T06:14:15.830674Z",
     "shell.execute_reply.started": "2024-04-30T06:14:06.723958Z"
    }
   },
   "outputs": [],
   "source": [
    "data4 = data4[(data4['Year']>=1978)&(data4['Year']<=2020)]\n",
    "\n",
    "data4['International'] = 0\n",
    "data4.loc[data4['SC']!=data4['TC'],'International'] = 1"
   ]
  },
  {
   "cell_type": "markdown",
   "id": "11c39eed-b486-4129-a2b1-dc966a5042b2",
   "metadata": {},
   "source": [
    "# Function"
   ]
  },
  {
   "cell_type": "code",
   "execution_count": 32,
   "id": "6294cda6-ffed-413a-8c91-4978dd4ed260",
   "metadata": {
    "execution": {
     "iopub.execute_input": "2024-04-30T00:06:14.457230Z",
     "iopub.status.busy": "2024-04-30T00:06:14.457230Z",
     "iopub.status.idle": "2024-04-30T00:06:14.462135Z",
     "shell.execute_reply": "2024-04-30T00:06:14.462135Z",
     "shell.execute_reply.started": "2024-04-30T00:06:14.457230Z"
    }
   },
   "outputs": [],
   "source": [
    "def draw_line(ax,d,column,color,label):\n",
    "    dd = d.groupby('Year')[column].mean().reset_index()\n",
    "    ax.plot(dd['Year'],dd[column],color = color,label=label,lw=2)\n",
    "    \n",
    "def draw_line2(ax,d,color,label,ls='-'):\n",
    "    dd = d.groupby('Year')['Date'].count().reset_index()\n",
    "    ax.plot(dd['Year'],dd['Date'],color = color,label=label,lw=2,ls=ls)\n",
    "\n",
    "def draw_line3(ax,d,d2,color,label,ls='-'):\n",
    "    dd1 = d.groupby('Year')['Date'].count().reset_index()\n",
    "    dd2 = d2.groupby('Year')['Date'].count().reset_index()\n",
    "    dd1 = dd1.merge(dd2,on=['Year'],how='outer').fillna(0)\n",
    "    dd1['P'] = dd1['Date_y']/dd1['Date_x']\n",
    "    ax.plot(dd1['Year'],dd1['P'],color = color,label=label,lw=2,ls=ls)\n",
    "    # ax.fill_between(dd1['Year'],dd1['P'],0,color = color)\n",
    "    \n",
    "def set_fig(ax,xlabel,ylabel,iflog = True,legend = True):\n",
    "    plt.xlim(1977,2021)\n",
    "    plt.yticks(fontsize=15,)\n",
    "    plt.xticks(fontsize=15,)\n",
    "    if legend:\n",
    "        plt.legend(frameon =False,fontsize = 15,loc=2)\n",
    "    if iflog:\n",
    "        ax.set_yscale('log')\n",
    "    if xlabel!=0:\n",
    "        plt.xlabel(xlabel,fontsize = 15)\n",
    "    if ylabel!=0:\n",
    "        plt.ylabel(ylabel,fontsize = 15)\n",
    "    ax.spines['bottom'].set_linewidth(2)\n",
    "    ax.spines['left'].set_linewidth(2)\n",
    "    ax.spines['right'].set_visible(False)\n",
    "    ax.spines['top'].set_visible(False)"
   ]
  },
  {
   "cell_type": "markdown",
   "id": "2c4585f6-ff58-45cb-a1d8-43d31c1bfde2",
   "metadata": {},
   "source": [
    "# Distance"
   ]
  },
  {
   "cell_type": "code",
   "execution_count": 12,
   "id": "36ba6cdf-ec34-4694-9703-75a7468de53c",
   "metadata": {
    "execution": {
     "iopub.execute_input": "2024-04-29T23:40:33.876669Z",
     "iopub.status.busy": "2024-04-29T23:40:33.876669Z",
     "iopub.status.idle": "2024-04-29T23:40:43.354883Z",
     "shell.execute_reply": "2024-04-29T23:40:43.354883Z",
     "shell.execute_reply.started": "2024-04-29T23:40:33.876669Z"
    }
   },
   "outputs": [],
   "source": [
    "# International\n",
    "\n",
    "data_ = data[data['International']==1]\n",
    "data2_ = data2[data2['International']==1]\n",
    "data3_ = data3[data3['International']==1]\n",
    "data4_ = data4[data4['International']==1]\n",
    "\n",
    "distance.columns=['SC', 'TC', 'Year', 'Geography', 'GDP distance', 'RD distance', 'Population distance','Researcher distance', 'Science distance', 'Collaboration distance', 'Knowledge distance', 'Governance distance','Language distance', 'Culture distance', 'Invention distance', 'Tech distance']\n",
    "\n",
    "data_=data_.merge(distance, on=['SC', 'TC', 'Year'] , how='left')\n",
    "data2_=data2_.merge(distance, on=['SC', 'TC', 'Year'] , how='left')\n",
    "data3_=data3_.merge(distance, on=['SC', 'TC', 'Year'] , how='left')\n",
    "data4_=data4_.merge(distance, on=['SC', 'TC', 'Year'] , how='left')"
   ]
  },
  {
   "cell_type": "code",
   "execution_count": 13,
   "id": "ec809b36-161c-40d6-94f7-7559d023c4f7",
   "metadata": {
    "execution": {
     "iopub.execute_input": "2024-04-29T23:40:46.291893Z",
     "iopub.status.busy": "2024-04-29T23:40:46.291893Z",
     "iopub.status.idle": "2024-04-29T23:40:46.294898Z",
     "shell.execute_reply": "2024-04-29T23:40:46.294898Z",
     "shell.execute_reply.started": "2024-04-29T23:40:46.291893Z"
    }
   },
   "outputs": [],
   "source": [
    "colors = sns.color_palette()"
   ]
  },
  {
   "cell_type": "code",
   "execution_count": 44,
   "id": "556501fc-c13c-4cf8-98c3-aef7767dea8f",
   "metadata": {
    "execution": {
     "iopub.execute_input": "2024-04-30T00:29:47.922878Z",
     "iopub.status.busy": "2024-04-30T00:29:47.922878Z",
     "iopub.status.idle": "2024-04-30T00:29:49.051019Z",
     "shell.execute_reply": "2024-04-30T00:29:49.051019Z",
     "shell.execute_reply.started": "2024-04-30T00:29:47.922878Z"
    }
   },
   "outputs": [],
   "source": [
    "plt.subplots(1,1,figsize=(2,1))\n",
    "\n",
    "ax=plt.subplot(1,1,1)\n",
    "draw_line3(ax,data2,data2_, colors[1],'Scientist mobility')\n",
    "draw_line3(ax,data,data_, colors[1],'Scientist migration',ls='--')\n",
    "draw_line3(ax,data4,data4_, colors[2],'Inventor mobility')\n",
    "draw_line3(ax,data3,data3_, colors[2],'Inventor migration',ls='--')\n",
    "set_fig(ax,0,'Proportion',iflog = False,legend = False)\n",
    "plt.xticks([1980,2000,2020])\n",
    "plt.savefig(savepath+\"Proportion.pdf\",bbox_inches='tight')"
   ]
  },
  {
   "cell_type": "code",
   "execution_count": 55,
   "id": "48a11bde-e747-474f-ba0c-8a487f48ab9d",
   "metadata": {
    "execution": {
     "iopub.execute_input": "2024-04-30T00:48:29.342475Z",
     "iopub.status.busy": "2024-04-30T00:48:29.342475Z",
     "iopub.status.idle": "2024-04-30T00:48:55.403084Z",
     "shell.execute_reply": "2024-04-30T00:48:55.403084Z",
     "shell.execute_reply.started": "2024-04-30T00:48:29.342475Z"
    }
   },
   "outputs": [],
   "source": [
    "plt.subplots(1,3,figsize=(13,2.1))\n",
    "plt.subplots_adjust(left=None,bottom=None,right=None,top=None,hspace=0,wspace=0.28)\n",
    "\n",
    "ax=plt.subplot(1,3, 1)\n",
    "draw_line2(ax,data2_, colors[1],'Scientist mobility')\n",
    "draw_line2(ax,data_, colors[1],'Scientist migration',ls='--')\n",
    "draw_line2(ax,data4_, colors[2],'Inventor mobility')\n",
    "draw_line2(ax,data3_, colors[2],'Inventor migration',ls='--')\n",
    "set_fig(ax,'Year','#International mobility',iflog = True,legend = False)\n",
    "plt.xticks([1980,2000,2020])\n",
    "plt.yticks([1,10,100,1000,10000,100000,1000000])\n",
    "\n",
    "ax=plt.subplot(1,3, 2)\n",
    "sns.lineplot(data = data, x='Year',  y='Distance', n_boot=10, color=colors[1])\n",
    "sns.lineplot(data = data2, x='Year', y='Distance', n_boot=10, color=colors[1], linestyle='--')\n",
    "sns.lineplot(data = data3, x='Year', y='Distance', n_boot=10, color=colors[2])\n",
    "sns.lineplot(data = data4, x='Year', y='Distance', n_boot=10, color=colors[2], linestyle='--')\n",
    "plt.ticklabel_format(axis=\"y\", style=\"sci\", scilimits=(-2,2))\n",
    "set_fig(ax,'Year','Geography distance',iflog = False,legend = False)\n",
    "plt.xticks([1980,2000,2020])\n",
    "\n",
    "ax=plt.subplot(1,3, 3)\n",
    "sns.lineplot(data = data_, x='Year', y='Geography', n_boot=10, color=colors[1])\n",
    "sns.lineplot(data = data2_, x='Year', y='Geography', n_boot=10, color=colors[1], linestyle='--')\n",
    "sns.lineplot(data = data3_, x='Year', y='Geography', n_boot=10, color=colors[2])\n",
    "sns.lineplot(data = data4_, x='Year', y='Geography', n_boot=10, color=colors[2], linestyle='--')\n",
    "plt.ticklabel_format(axis=\"y\", style=\"sci\", scilimits=(-2,2))\n",
    "set_fig(ax,'Year','Geography distance',iflog = False,legend = False)\n",
    "plt.xticks([1980,2000,2020])\n",
    "\n",
    "plt.savefig(savepath+\"number and distance2.pdf\",bbox_inches='tight')"
   ]
  },
  {
   "cell_type": "code",
   "execution_count": null,
   "id": "a6fee3d5-dd6f-4acb-ba05-27a2b88c05f4",
   "metadata": {},
   "outputs": [],
   "source": []
  },
  {
   "cell_type": "code",
   "execution_count": 1,
   "id": "40f75338-2035-4f1c-bc13-f76bce882fc3",
   "metadata": {
    "execution": {
     "iopub.execute_input": "2024-04-30T06:24:08.956204Z",
     "iopub.status.busy": "2024-04-30T06:24:08.956204Z",
     "iopub.status.idle": "2024-04-30T06:24:08.959562Z",
     "shell.execute_reply": "2024-04-30T06:24:08.959562Z",
     "shell.execute_reply.started": "2024-04-30T06:24:08.956204Z"
    }
   },
   "outputs": [],
   "source": [
    "plt.subplots(2,4,figsize=(15,4.2))\n",
    "plt.subplots_adjust(left=None,bottom=None,right=None,top=None,hspace=0.1)\n",
    "\n",
    "for i,col in enumerate(['Culture distance', 'Language distance', 'GDP distance', 'RD distance', 'Governance distance', 'Science distance', 'Invention distance']):\n",
    "    ax=plt.subplot(2,4, i+1)\n",
    "    sns.lineplot(data = data, x='Year', y=col, n_boot=10, color=colors[1])\n",
    "    sns.lineplot(data = data2, x='Year', y=col, n_boot=10, color=colors[1], linestyle='--')\n",
    "    sns.lineplot(data = data3, x='Year', y=col, n_boot=10, color=colors[2])\n",
    "    sns.lineplot(data = data4, x='Year', y=col, n_boot=10, color=colors[2], linestyle='--')\n",
    "    set_fig(ax,'Year',0,iflog = False,legend = False)\n",
    "    if i==0 or i==4:\n",
    "        plt.ylabel('Avg. distance', fontsize=15)\n",
    "    else:\n",
    "        plt.ylabel('')\n",
    "    plt.rc('font', size=12)\n",
    "    plt.ticklabel_format(axis=\"y\", style=\"sci\", scilimits=(-2,2))\n",
    "    if i>=4:\n",
    "        plt.xticks([1980,2000,2020])\n",
    "    else:\n",
    "        plt.xticks([1980,2000,2020],['','',''])\n",
    "        plt.xlabel('')\n",
    "    plt.title(col , fontsize=15)\n",
    "ax = plt.subplot(2,4,8)\n",
    "ax.spines['bottom'].set_visible(False)\n",
    "ax.spines['left'].set_visible(False)\n",
    "ax.spines['right'].set_visible(False)\n",
    "ax.spines['top'].set_visible(False)\n",
    "plt.yticks([])\n",
    "plt.xticks([])\n",
    "plt.savefig(savepath+\"all distance2.pdf\",bbox_inches='tight')"
   ]
  }
 ],
 "metadata": {
  "kernelspec": {
   "display_name": "Python 3 (ipykernel)",
   "language": "python",
   "name": "python3"
  },
  "language_info": {
   "codemirror_mode": {
    "name": "ipython",
    "version": 3
   },
   "file_extension": ".py",
   "mimetype": "text/x-python",
   "name": "python",
   "nbconvert_exporter": "python",
   "pygments_lexer": "ipython3",
   "version": "3.11.8"
  }
 },
 "nbformat": 4,
 "nbformat_minor": 5
}
