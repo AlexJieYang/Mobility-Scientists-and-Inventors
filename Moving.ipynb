{
 "cells": [
  {
   "cell_type": "code",
   "execution_count": 1,
   "id": "62734fcf",
   "metadata": {
    "execution": {
     "iopub.execute_input": "2024-04-28T13:41:39.717941Z",
     "iopub.status.busy": "2024-04-28T13:41:39.717941Z",
     "iopub.status.idle": "2024-04-28T13:41:40.013919Z",
     "shell.execute_reply": "2024-04-28T13:41:40.013919Z",
     "shell.execute_reply.started": "2024-04-28T13:41:39.717941Z"
    }
   },
   "outputs": [],
   "source": [
    "#Author Alex J. Yang, alexjieyang@outlook.com\n",
    "import numpy as np\n",
    "import pandas as pd"
   ]
  },
  {
   "cell_type": "code",
   "execution_count": 2,
   "id": "c1f5b6a5-5024-4c31-89bc-953b45e8e5d0",
   "metadata": {
    "execution": {
     "iopub.execute_input": "2024-04-28T13:41:40.014945Z",
     "iopub.status.busy": "2024-04-28T13:41:40.013919Z",
     "iopub.status.idle": "2024-04-28T13:41:40.018532Z",
     "shell.execute_reply": "2024-04-28T13:41:40.018532Z",
     "shell.execute_reply.started": "2024-04-28T13:41:40.014945Z"
    }
   },
   "outputs": [
    {
     "name": "stdout",
     "output_type": "stream",
     "text": [
      "E:\\NETDATA\\Patent\n"
     ]
    }
   ],
   "source": [
    "cd E:\\Patent"
   ]
  },
  {
   "cell_type": "markdown",
   "id": "7f7b2a10",
   "metadata": {
    "jp-MarkdownHeadingCollapsed": true
   },
   "source": [
    "# Load data"
   ]
  },
  {
   "cell_type": "code",
   "execution_count": 3,
   "id": "7ea7f199",
   "metadata": {
    "execution": {
     "iopub.execute_input": "2024-04-28T13:42:03.520080Z",
     "iopub.status.busy": "2024-04-28T13:42:03.519081Z",
     "iopub.status.idle": "2024-04-28T13:42:26.225437Z",
     "shell.execute_reply": "2024-04-28T13:42:26.225437Z",
     "shell.execute_reply.started": "2024-04-28T13:42:03.520080Z"
    }
   },
   "outputs": [],
   "source": [
    "df1 = pd.read_csv('Inventor\\g_patent_inventor.csv.zip')"
   ]
  },
  {
   "cell_type": "code",
   "execution_count": 4,
   "id": "1732621a-f1dd-4fe2-b20e-253ddf3102b8",
   "metadata": {
    "execution": {
     "iopub.execute_input": "2024-04-28T13:47:28.276114Z",
     "iopub.status.busy": "2024-04-28T13:47:28.275118Z",
     "iopub.status.idle": "2024-04-28T13:47:28.280011Z",
     "shell.execute_reply": "2024-04-28T13:47:28.280011Z",
     "shell.execute_reply.started": "2024-04-28T13:47:28.276114Z"
    }
   },
   "outputs": [
    {
     "data": {
      "text/plain": [
       "Index(['patent_id', 'inventor_id', 'location_id', 'date'], dtype='object')"
      ]
     },
     "execution_count": 4,
     "metadata": {},
     "output_type": "execute_result"
    }
   ],
   "source": [
    "df1.columns"
   ]
  },
  {
   "cell_type": "code",
   "execution_count": 5,
   "id": "212e758b-66d0-4789-ab78-de1177e90c36",
   "metadata": {
    "execution": {
     "iopub.execute_input": "2024-04-28T13:47:34.461176Z",
     "iopub.status.busy": "2024-04-28T13:47:34.461176Z",
     "iopub.status.idle": "2024-04-28T13:47:36.375198Z",
     "shell.execute_reply": "2024-04-28T13:47:36.375198Z",
     "shell.execute_reply.started": "2024-04-28T13:47:34.461176Z"
    }
   },
   "outputs": [],
   "source": [
    "df1.dropna(subset = 'location_id' , inplace = True)"
   ]
  },
  {
   "cell_type": "code",
   "execution_count": 6,
   "id": "bf37c1ef",
   "metadata": {
    "execution": {
     "iopub.execute_input": "2024-04-28T13:48:32.729192Z",
     "iopub.status.busy": "2024-04-28T13:48:32.729192Z",
     "iopub.status.idle": "2024-04-28T13:48:48.002905Z",
     "shell.execute_reply": "2024-04-28T13:48:48.002905Z",
     "shell.execute_reply.started": "2024-04-28T13:48:32.729192Z"
    }
   },
   "outputs": [],
   "source": [
    "df2 = df1.groupby(['inventor_id'])['patent_id'].count().reset_index()\n",
    "df2.columns = ['inventor_id' , 'Productivity']"
   ]
  },
  {
   "cell_type": "code",
   "execution_count": 9,
   "id": "0b116348",
   "metadata": {
    "execution": {
     "iopub.execute_input": "2024-04-28T13:50:38.738096Z",
     "iopub.status.busy": "2024-04-28T13:50:38.738096Z",
     "iopub.status.idle": "2024-04-28T13:50:49.241310Z",
     "shell.execute_reply": "2024-04-28T13:50:49.241310Z",
     "shell.execute_reply.started": "2024-04-28T13:50:38.738096Z"
    }
   },
   "outputs": [],
   "source": [
    "df2 = df2[df2['Productivity']>=2].copy()\n",
    "df1 = df1[df1['inventor_id'].isin(df2['inventor_id'])].copy()"
   ]
  },
  {
   "cell_type": "code",
   "execution_count": 10,
   "id": "46b50a9e-93ae-46a5-81e5-5b14076f4909",
   "metadata": {
    "execution": {
     "iopub.execute_input": "2024-04-28T13:50:49.254224Z",
     "iopub.status.busy": "2024-04-28T13:50:49.253227Z",
     "iopub.status.idle": "2024-04-28T13:50:49.261682Z",
     "shell.execute_reply": "2024-04-28T13:50:49.261682Z",
     "shell.execute_reply.started": "2024-04-28T13:50:49.254224Z"
    }
   },
   "outputs": [
    {
     "data": {
      "text/plain": [
       "20140278"
      ]
     },
     "execution_count": 10,
     "metadata": {},
     "output_type": "execute_result"
    }
   ],
   "source": [
    "len(df1)"
   ]
  },
  {
   "cell_type": "code",
   "execution_count": 11,
   "id": "16ba29ab-16ee-4662-893c-106f0504e52e",
   "metadata": {
    "execution": {
     "iopub.execute_input": "2024-04-28T13:50:49.262691Z",
     "iopub.status.busy": "2024-04-28T13:50:49.262691Z",
     "iopub.status.idle": "2024-04-28T13:50:49.265390Z",
     "shell.execute_reply": "2024-04-28T13:50:49.265390Z",
     "shell.execute_reply.started": "2024-04-28T13:50:49.262691Z"
    }
   },
   "outputs": [
    {
     "data": {
      "text/plain": [
       "2283542"
      ]
     },
     "execution_count": 11,
     "metadata": {},
     "output_type": "execute_result"
    }
   ],
   "source": [
    "len(df2)"
   ]
  },
  {
   "cell_type": "markdown",
   "id": "5f9c39f9",
   "metadata": {
    "jp-MarkdownHeadingCollapsed": true
   },
   "source": [
    "# Count #unique locations for each author"
   ]
  },
  {
   "cell_type": "code",
   "execution_count": 12,
   "id": "857a2521",
   "metadata": {
    "execution": {
     "iopub.execute_input": "2024-04-28T13:51:35.853170Z",
     "iopub.status.busy": "2024-04-28T13:51:35.853170Z",
     "iopub.status.idle": "2024-04-28T13:52:21.457156Z",
     "shell.execute_reply": "2024-04-28T13:52:21.456135Z",
     "shell.execute_reply.started": "2024-04-28T13:51:35.853170Z"
    }
   },
   "outputs": [],
   "source": [
    "dff = df1.groupby('inventor_id')['location_id'].nunique().reset_index()\n",
    "dff.columns = ['inventor_id','#locations']"
   ]
  },
  {
   "cell_type": "markdown",
   "id": "53363779",
   "metadata": {},
   "source": [
    "I choose the authors with mutiple insitutions, as these authors move at least once"
   ]
  },
  {
   "cell_type": "code",
   "execution_count": 13,
   "id": "69f182ac",
   "metadata": {
    "execution": {
     "iopub.execute_input": "2024-04-28T13:52:21.465032Z",
     "iopub.status.busy": "2024-04-28T13:52:21.465032Z",
     "iopub.status.idle": "2024-04-28T13:52:21.559700Z",
     "shell.execute_reply": "2024-04-28T13:52:21.559700Z",
     "shell.execute_reply.started": "2024-04-28T13:52:21.465032Z"
    }
   },
   "outputs": [],
   "source": [
    "dff = dff[dff['#locations']>1]"
   ]
  },
  {
   "cell_type": "code",
   "execution_count": 14,
   "id": "ef23506d",
   "metadata": {
    "execution": {
     "iopub.execute_input": "2024-04-28T13:52:21.561204Z",
     "iopub.status.busy": "2024-04-28T13:52:21.560700Z",
     "iopub.status.idle": "2024-04-28T13:52:28.204293Z",
     "shell.execute_reply": "2024-04-28T13:52:28.204293Z",
     "shell.execute_reply.started": "2024-04-28T13:52:21.560700Z"
    }
   },
   "outputs": [],
   "source": [
    "df1 = df1[df1['inventor_id'].isin(dff['inventor_id'])].copy()"
   ]
  },
  {
   "cell_type": "markdown",
   "id": "039ea08a",
   "metadata": {},
   "source": [
    "# Sort papers based on the inventor_id and Publication date"
   ]
  },
  {
   "cell_type": "code",
   "execution_count": 16,
   "id": "b9ee0188",
   "metadata": {
    "execution": {
     "iopub.execute_input": "2024-04-28T13:53:17.368721Z",
     "iopub.status.busy": "2024-04-28T13:53:17.367725Z",
     "iopub.status.idle": "2024-04-28T13:53:32.666875Z",
     "shell.execute_reply": "2024-04-28T13:53:32.666875Z",
     "shell.execute_reply.started": "2024-04-28T13:53:17.368721Z"
    }
   },
   "outputs": [],
   "source": [
    "df1.sort_values(['inventor_id','date'],inplace=True)"
   ]
  },
  {
   "cell_type": "markdown",
   "id": "95f458aa",
   "metadata": {},
   "source": [
    "## calculate the moving point"
   ]
  },
  {
   "cell_type": "markdown",
   "id": "b4bcbc67",
   "metadata": {},
   "source": [
    "In this part, I use the  location_id and formerlocation_id to determine the moving point.\n",
    "For a scientist, in her career, if the current location_id is different from the former one, I consider it as the moving point.\n",
    "\n",
    "Note that this may raise error when it comes to the junction of two authors.\n",
    "To address this issue, I use the inventor_id and formerinventor_id to determine if this is the author's last publication in her careers,\n",
    "and I remove the moving points in the last publications for each author"
   ]
  },
  {
   "cell_type": "code",
   "execution_count": 18,
   "id": "ead00c15",
   "metadata": {
    "execution": {
     "iopub.execute_input": "2024-04-28T13:56:11.062667Z",
     "iopub.status.busy": "2024-04-28T13:56:11.062667Z",
     "iopub.status.idle": "2024-04-28T13:56:13.248866Z",
     "shell.execute_reply": "2024-04-28T13:56:13.248866Z",
     "shell.execute_reply.started": "2024-04-28T13:56:11.062667Z"
    }
   },
   "outputs": [],
   "source": [
    "df1['formerlocation_id'] = np.concatenate( [[11944219.0], df1['location_id'].values[:-1]])\n",
    "df1['ifMove'] = 0\n",
    "df1.loc[df1['location_id'] != df1['formerlocation_id'] , 'ifMove']=1"
   ]
  },
  {
   "cell_type": "markdown",
   "id": "db4624b8",
   "metadata": {},
   "source": [
    "remove the moving points in the last publications for each author"
   ]
  },
  {
   "cell_type": "code",
   "execution_count": 20,
   "id": "9be13652",
   "metadata": {
    "execution": {
     "iopub.execute_input": "2024-04-28T14:20:26.108234Z",
     "iopub.status.busy": "2024-04-28T14:20:26.108234Z",
     "iopub.status.idle": "2024-04-28T14:20:29.300179Z",
     "shell.execute_reply": "2024-04-28T14:20:29.299145Z",
     "shell.execute_reply.started": "2024-04-28T14:20:26.108234Z"
    }
   },
   "outputs": [],
   "source": [
    "# df1['formerinventor_id'] = np.concatenate( [ [0] , df1['inventor_id'].values[:-1]])\n",
    "# df1['ifLastPub'] = df1['inventor_id'] - df1['formerinventor_id']\n",
    "# df1['ifLastPub'] = df1['ifLastPub'].apply(lambda x:0 if x==0 else 1)\n",
    "\n",
    "df1['formerinventor_id'] = np.concatenate( [ [0] , df1['inventor_id'].values[:-1]])\n",
    "df1['ifFirstPub'] = 0\n",
    "df1.loc[df1['inventor_id'] != df1['formerinventor_id'] , 'ifFirstPub']=1"
   ]
  },
  {
   "cell_type": "code",
   "execution_count": 21,
   "id": "ae0f7852",
   "metadata": {
    "execution": {
     "iopub.execute_input": "2024-04-28T14:20:37.579415Z",
     "iopub.status.busy": "2024-04-28T14:20:37.578157Z",
     "iopub.status.idle": "2024-04-28T14:20:40.175343Z",
     "shell.execute_reply": "2024-04-28T14:20:40.175343Z",
     "shell.execute_reply.started": "2024-04-28T14:20:37.579415Z"
    }
   },
   "outputs": [],
   "source": [
    "df1 = df1[df1['ifFirstPub']==0]\n",
    "del df1['ifFirstPub']\n",
    "del df1['formerinventor_id']\n",
    "df1.index = range(len(df1))"
   ]
  },
  {
   "cell_type": "code",
   "execution_count": 27,
   "id": "a1802da4-fb72-4f8c-8b76-df413c336e51",
   "metadata": {
    "execution": {
     "iopub.execute_input": "2024-04-28T14:29:52.331869Z",
     "iopub.status.busy": "2024-04-28T14:29:52.330873Z",
     "iopub.status.idle": "2024-04-28T14:30:13.029521Z",
     "shell.execute_reply": "2024-04-28T14:30:13.029521Z",
     "shell.execute_reply.started": "2024-04-28T14:29:52.331869Z"
    }
   },
   "outputs": [],
   "source": [
    "df2 = df1[df1['ifMove']==1]\n",
    "df2.to_csv(r'Inventor\\Move\\mobility.csv.zip' , index = False)"
   ]
  },
  {
   "cell_type": "markdown",
   "id": "5f9a0d5d-fc75-4797-89a6-203bb8cef312",
   "metadata": {},
   "source": [
    "## Dertermine if mobility"
   ]
  },
  {
   "cell_type": "code",
   "execution_count": 43,
   "id": "bc71bb03-1e57-4798-acf2-98358367e660",
   "metadata": {
    "execution": {
     "iopub.execute_input": "2024-04-28T15:36:27.780937Z",
     "iopub.status.busy": "2024-04-28T15:36:27.779880Z",
     "iopub.status.idle": "2024-04-28T15:36:32.898460Z",
     "shell.execute_reply": "2024-04-28T15:36:32.898460Z",
     "shell.execute_reply.started": "2024-04-28T15:36:27.780937Z"
    }
   },
   "outputs": [],
   "source": [
    "Move_count = df1.groupby('inventor_id')['ifMove'].sum().reset_index()"
   ]
  },
  {
   "cell_type": "code",
   "execution_count": 44,
   "id": "eba79fb1-d821-40fa-a844-d76dde289ddb",
   "metadata": {
    "execution": {
     "iopub.execute_input": "2024-04-28T15:36:32.899461Z",
     "iopub.status.busy": "2024-04-28T15:36:32.899461Z",
     "iopub.status.idle": "2024-04-28T15:36:37.955457Z",
     "shell.execute_reply": "2024-04-28T15:36:37.955457Z",
     "shell.execute_reply.started": "2024-04-28T15:36:32.899461Z"
    }
   },
   "outputs": [],
   "source": [
    "df1['Year'] = df1['date'].apply(lambda x:int(x[:4]))"
   ]
  },
  {
   "cell_type": "code",
   "execution_count": 45,
   "id": "fa888703-09fe-4c07-ac3e-6b3191b28485",
   "metadata": {
    "execution": {
     "iopub.execute_input": "2024-04-28T15:36:37.956459Z",
     "iopub.status.busy": "2024-04-28T15:36:37.956459Z",
     "iopub.status.idle": "2024-04-28T15:36:44.188803Z",
     "shell.execute_reply": "2024-04-28T15:36:44.188803Z",
     "shell.execute_reply.started": "2024-04-28T15:36:37.956459Z"
    }
   },
   "outputs": [],
   "source": [
    "df11 = df1[df1['inventor_id'].isin(Move_count.loc[Move_count['ifMove']==1 , 'inventor_id'].values)]\n",
    "df12 = df1[df1['inventor_id'].isin(Move_count.loc[Move_count['ifMove']>1 , 'inventor_id'].values)]"
   ]
  },
  {
   "cell_type": "code",
   "execution_count": 46,
   "id": "20d1e13a-2a96-4d2c-9001-962b20376fc7",
   "metadata": {
    "execution": {
     "iopub.execute_input": "2024-04-28T15:36:44.220461Z",
     "iopub.status.busy": "2024-04-28T15:36:44.220461Z",
     "iopub.status.idle": "2024-04-28T15:36:44.225051Z",
     "shell.execute_reply": "2024-04-28T15:36:44.225051Z",
     "shell.execute_reply.started": "2024-04-28T15:36:44.220461Z"
    }
   },
   "outputs": [],
   "source": [
    "def filter_move_points(group):\n",
    "    move_points = group[group['ifMove'] == 1].index.tolist()\n",
    "    valid_moves = []\n",
    "\n",
    "    for point in move_points:\n",
    "        # Check if there are at least 3 years before and after the move point\n",
    "        before = group[(group['Year'] >= group.loc[point, 'Year'] - 2) & (group['date'] < group.loc[point, 'date'])]\n",
    "        after = group[(group['date'] > group.loc[point, 'date']) & (group['Year'] <= group.loc[point, 'Year'] + 2)]\n",
    "\n",
    "        # If the author didn't move for 3 years before and after the move point, consider it a valid move\n",
    "        if len(before[before['ifMove'] == 1]) == 0 and len(after[after['ifMove'] == 1]) == 0:\n",
    "            valid_moves.append(point)\n",
    "\n",
    "    # Return indices of move points that meet the criteria\n",
    "    return valid_moves"
   ]
  },
  {
   "cell_type": "code",
   "execution_count": 47,
   "id": "03bfdae2-b052-4ca4-9c96-bf960f886018",
   "metadata": {
    "execution": {
     "iopub.execute_input": "2024-04-28T15:36:44.226057Z",
     "iopub.status.busy": "2024-04-28T15:36:44.226057Z",
     "iopub.status.idle": "2024-04-28T16:13:55.675465Z",
     "shell.execute_reply": "2024-04-28T16:13:55.675465Z",
     "shell.execute_reply.started": "2024-04-28T15:36:44.226057Z"
    }
   },
   "outputs": [],
   "source": [
    "valid_move_indices = df12.groupby('inventor_id').apply(filter_move_points).explode().values"
   ]
  },
  {
   "cell_type": "code",
   "execution_count": 48,
   "id": "63cf9486-cac3-4ce2-9a3b-efdaef658fd0",
   "metadata": {
    "execution": {
     "iopub.execute_input": "2024-04-28T16:13:55.676463Z",
     "iopub.status.busy": "2024-04-28T16:13:55.675465Z",
     "iopub.status.idle": "2024-04-28T16:13:55.798164Z",
     "shell.execute_reply": "2024-04-28T16:13:55.798164Z",
     "shell.execute_reply.started": "2024-04-28T16:13:55.676463Z"
    }
   },
   "outputs": [],
   "source": [
    "dfmove1 = df11[df11['ifMove']==1]"
   ]
  },
  {
   "cell_type": "code",
   "execution_count": 49,
   "id": "2f84df18",
   "metadata": {
    "execution": {
     "iopub.execute_input": "2024-04-28T16:13:55.808121Z",
     "iopub.status.busy": "2024-04-28T16:13:55.808121Z",
     "iopub.status.idle": "2024-04-28T16:13:57.424935Z",
     "shell.execute_reply": "2024-04-28T16:13:57.424935Z",
     "shell.execute_reply.started": "2024-04-28T16:13:55.808121Z"
    }
   },
   "outputs": [],
   "source": [
    "dfmove2 = df1.loc[pd.DataFrame(valid_move_indices).dropna()[0].values,:]"
   ]
  },
  {
   "cell_type": "code",
   "execution_count": 50,
   "id": "97dfba57-0560-483d-a86d-93f79cef11f8",
   "metadata": {
    "execution": {
     "iopub.execute_input": "2024-04-28T16:13:57.425939Z",
     "iopub.status.busy": "2024-04-28T16:13:57.425939Z",
     "iopub.status.idle": "2024-04-28T16:13:57.517268Z",
     "shell.execute_reply": "2024-04-28T16:13:57.516954Z",
     "shell.execute_reply.started": "2024-04-28T16:13:57.425939Z"
    }
   },
   "outputs": [],
   "source": [
    "dfmove = pd.concat([dfmove1 , dfmove2])"
   ]
  },
  {
   "cell_type": "code",
   "execution_count": 51,
   "id": "f86f6602-b090-4325-b08f-ae67f552b846",
   "metadata": {
    "execution": {
     "iopub.execute_input": "2024-04-28T16:13:57.527762Z",
     "iopub.status.busy": "2024-04-28T16:13:57.526763Z",
     "iopub.status.idle": "2024-04-28T16:13:57.533700Z",
     "shell.execute_reply": "2024-04-28T16:13:57.533700Z",
     "shell.execute_reply.started": "2024-04-28T16:13:57.527762Z"
    }
   },
   "outputs": [
    {
     "data": {
      "text/html": [
       "<div>\n",
       "<style scoped>\n",
       "    .dataframe tbody tr th:only-of-type {\n",
       "        vertical-align: middle;\n",
       "    }\n",
       "\n",
       "    .dataframe tbody tr th {\n",
       "        vertical-align: top;\n",
       "    }\n",
       "\n",
       "    .dataframe thead th {\n",
       "        text-align: right;\n",
       "    }\n",
       "</style>\n",
       "<table border=\"1\" class=\"dataframe\">\n",
       "  <thead>\n",
       "    <tr style=\"text-align: right;\">\n",
       "      <th></th>\n",
       "      <th>patent_id</th>\n",
       "      <th>inventor_id</th>\n",
       "      <th>location_id</th>\n",
       "      <th>date</th>\n",
       "      <th>formerlocation_id</th>\n",
       "      <th>ifMove</th>\n",
       "      <th>Year</th>\n",
       "    </tr>\n",
       "  </thead>\n",
       "  <tbody>\n",
       "    <tr>\n",
       "      <th>0</th>\n",
       "      <td>4462769</td>\n",
       "      <td>fl:(l_ln:schibbye-1</td>\n",
       "      <td>4027393c-16c8-11ed-9b5f-1234bde3cd05</td>\n",
       "      <td>1984-07-31</td>\n",
       "      <td>51a5a1ae-16c8-11ed-9b5f-1234bde3cd05</td>\n",
       "      <td>1</td>\n",
       "      <td>1984</td>\n",
       "    </tr>\n",
       "    <tr>\n",
       "      <th>4</th>\n",
       "      <td>11645378</td>\n",
       "      <td>fl:._ln:sharanabasappa-1</td>\n",
       "      <td>93f56e17-49af-11ed-9879-1234bde3cd05</td>\n",
       "      <td>2023-05-09</td>\n",
       "      <td>68a4ea01-16c8-11ed-9b5f-1234bde3cd05</td>\n",
       "      <td>1</td>\n",
       "      <td>2023</td>\n",
       "    </tr>\n",
       "    <tr>\n",
       "      <th>8</th>\n",
       "      <td>7744238</td>\n",
       "      <td>fl:a-_ln:chang-3</td>\n",
       "      <td>b5c9a039-16c7-11ed-9b5f-1234bde3cd05</td>\n",
       "      <td>2010-06-29</td>\n",
       "      <td>907f9ab3-16c8-11ed-9b5f-1234bde3cd05</td>\n",
       "      <td>1</td>\n",
       "      <td>2010</td>\n",
       "    </tr>\n",
       "    <tr>\n",
       "      <th>28</th>\n",
       "      <td>4724885</td>\n",
       "      <td>fl:a-_ln:chang-5</td>\n",
       "      <td>b5c9a039-16c7-11ed-9b5f-1234bde3cd05</td>\n",
       "      <td>1988-02-16</td>\n",
       "      <td>8fb65d2f-16c8-11ed-9b5f-1234bde3cd05</td>\n",
       "      <td>1</td>\n",
       "      <td>1988</td>\n",
       "    </tr>\n",
       "    <tr>\n",
       "      <th>33</th>\n",
       "      <td>9074409</td>\n",
       "      <td>fl:a-_ln:chen-5</td>\n",
       "      <td>90e86893-16c8-11ed-9b5f-1234bde3cd05</td>\n",
       "      <td>2015-07-07</td>\n",
       "      <td>90a89965-16c8-11ed-9b5f-1234bde3cd05</td>\n",
       "      <td>1</td>\n",
       "      <td>2015</td>\n",
       "    </tr>\n",
       "    <tr>\n",
       "      <th>...</th>\n",
       "      <td>...</td>\n",
       "      <td>...</td>\n",
       "      <td>...</td>\n",
       "      <td>...</td>\n",
       "      <td>...</td>\n",
       "      <td>...</td>\n",
       "      <td>...</td>\n",
       "    </tr>\n",
       "    <tr>\n",
       "      <th>13709768</th>\n",
       "      <td>4156758</td>\n",
       "      <td>fl:zy_ln:tomczuk-1</td>\n",
       "      <td>a171c96c-16c8-11ed-9b5f-1234bde3cd05</td>\n",
       "      <td>1979-05-29</td>\n",
       "      <td>ebac7b62-16c7-11ed-9b5f-1234bde3cd05</td>\n",
       "      <td>1</td>\n",
       "      <td>1979</td>\n",
       "    </tr>\n",
       "    <tr>\n",
       "      <th>13709773</th>\n",
       "      <td>5282937</td>\n",
       "      <td>fl:zy_ln:tomczuk-1</td>\n",
       "      <td>e7bcffcf-16c7-11ed-9b5f-1234bde3cd05</td>\n",
       "      <td>1994-02-01</td>\n",
       "      <td>a171c96c-16c8-11ed-9b5f-1234bde3cd05</td>\n",
       "      <td>1</td>\n",
       "      <td>1994</td>\n",
       "    </tr>\n",
       "    <tr>\n",
       "      <th>13709782</th>\n",
       "      <td>7011736</td>\n",
       "      <td>fl:zy_ln:tomczuk-1</td>\n",
       "      <td>e409932f-16c7-11ed-9b5f-1234bde3cd05</td>\n",
       "      <td>2006-03-14</td>\n",
       "      <td>e7bcffcf-16c7-11ed-9b5f-1234bde3cd05</td>\n",
       "      <td>1</td>\n",
       "      <td>2006</td>\n",
       "    </tr>\n",
       "    <tr>\n",
       "      <th>13709785</th>\n",
       "      <td>4053842</td>\n",
       "      <td>fl:zy_ln:turski-1</td>\n",
       "      <td>05e39536-16c8-11ed-9b5f-1234bde3cd05</td>\n",
       "      <td>1977-10-11</td>\n",
       "      <td>0d139b93-16c8-11ed-9b5f-1234bde3cd05</td>\n",
       "      <td>1</td>\n",
       "      <td>1977</td>\n",
       "    </tr>\n",
       "    <tr>\n",
       "      <th>13709789</th>\n",
       "      <td>6600307</td>\n",
       "      <td>fl:zy_ln:turski-1</td>\n",
       "      <td>05da724f-16c8-11ed-9b5f-1234bde3cd05</td>\n",
       "      <td>2003-07-29</td>\n",
       "      <td>05e39536-16c8-11ed-9b5f-1234bde3cd05</td>\n",
       "      <td>1</td>\n",
       "      <td>2003</td>\n",
       "    </tr>\n",
       "  </tbody>\n",
       "</table>\n",
       "<p>1223064 rows × 7 columns</p>\n",
       "</div>"
      ],
      "text/plain": [
       "         patent_id               inventor_id  \\\n",
       "0          4462769       fl:(l_ln:schibbye-1   \n",
       "4         11645378  fl:._ln:sharanabasappa-1   \n",
       "8          7744238          fl:a-_ln:chang-3   \n",
       "28         4724885          fl:a-_ln:chang-5   \n",
       "33         9074409           fl:a-_ln:chen-5   \n",
       "...            ...                       ...   \n",
       "13709768   4156758        fl:zy_ln:tomczuk-1   \n",
       "13709773   5282937        fl:zy_ln:tomczuk-1   \n",
       "13709782   7011736        fl:zy_ln:tomczuk-1   \n",
       "13709785   4053842         fl:zy_ln:turski-1   \n",
       "13709789   6600307         fl:zy_ln:turski-1   \n",
       "\n",
       "                                   location_id        date  \\\n",
       "0         4027393c-16c8-11ed-9b5f-1234bde3cd05  1984-07-31   \n",
       "4         93f56e17-49af-11ed-9879-1234bde3cd05  2023-05-09   \n",
       "8         b5c9a039-16c7-11ed-9b5f-1234bde3cd05  2010-06-29   \n",
       "28        b5c9a039-16c7-11ed-9b5f-1234bde3cd05  1988-02-16   \n",
       "33        90e86893-16c8-11ed-9b5f-1234bde3cd05  2015-07-07   \n",
       "...                                        ...         ...   \n",
       "13709768  a171c96c-16c8-11ed-9b5f-1234bde3cd05  1979-05-29   \n",
       "13709773  e7bcffcf-16c7-11ed-9b5f-1234bde3cd05  1994-02-01   \n",
       "13709782  e409932f-16c7-11ed-9b5f-1234bde3cd05  2006-03-14   \n",
       "13709785  05e39536-16c8-11ed-9b5f-1234bde3cd05  1977-10-11   \n",
       "13709789  05da724f-16c8-11ed-9b5f-1234bde3cd05  2003-07-29   \n",
       "\n",
       "                             formerlocation_id  ifMove  Year  \n",
       "0         51a5a1ae-16c8-11ed-9b5f-1234bde3cd05       1  1984  \n",
       "4         68a4ea01-16c8-11ed-9b5f-1234bde3cd05       1  2023  \n",
       "8         907f9ab3-16c8-11ed-9b5f-1234bde3cd05       1  2010  \n",
       "28        8fb65d2f-16c8-11ed-9b5f-1234bde3cd05       1  1988  \n",
       "33        90a89965-16c8-11ed-9b5f-1234bde3cd05       1  2015  \n",
       "...                                        ...     ...   ...  \n",
       "13709768  ebac7b62-16c7-11ed-9b5f-1234bde3cd05       1  1979  \n",
       "13709773  a171c96c-16c8-11ed-9b5f-1234bde3cd05       1  1994  \n",
       "13709782  e7bcffcf-16c7-11ed-9b5f-1234bde3cd05       1  2006  \n",
       "13709785  0d139b93-16c8-11ed-9b5f-1234bde3cd05       1  1977  \n",
       "13709789  05e39536-16c8-11ed-9b5f-1234bde3cd05       1  2003  \n",
       "\n",
       "[1223064 rows x 7 columns]"
      ]
     },
     "execution_count": 51,
     "metadata": {},
     "output_type": "execute_result"
    }
   ],
   "source": [
    "dfmove"
   ]
  },
  {
   "cell_type": "code",
   "execution_count": 52,
   "id": "e988fae9",
   "metadata": {
    "execution": {
     "iopub.execute_input": "2024-04-28T16:13:57.533700Z",
     "iopub.status.busy": "2024-04-28T16:13:57.533700Z",
     "iopub.status.idle": "2024-04-28T16:14:03.546090Z",
     "shell.execute_reply": "2024-04-28T16:14:03.546090Z",
     "shell.execute_reply.started": "2024-04-28T16:13:57.533700Z"
    }
   },
   "outputs": [],
   "source": [
    "dfmove.to_csv(,index = False)"
   ]
  },
  {
   "cell_type": "code",
   "execution_count": null,
   "id": "5ce51c34-ae1f-4898-8cd8-bad6c475c1f5",
   "metadata": {},
   "outputs": [],
   "source": []
  }
 ],
 "metadata": {
  "kernelspec": {
   "display_name": "Python 3 (ipykernel)",
   "language": "python",
   "name": "python3"
  },
  "language_info": {
   "codemirror_mode": {
    "name": "ipython",
    "version": 3
   },
   "file_extension": ".py",
   "mimetype": "text/x-python",
   "name": "python",
   "nbconvert_exporter": "python",
   "pygments_lexer": "ipython3",
   "version": "3.11.8"
  }
 },
 "nbformat": 4,
 "nbformat_minor": 5
}
